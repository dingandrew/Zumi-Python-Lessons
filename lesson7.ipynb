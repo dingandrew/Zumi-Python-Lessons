{
 "cells": [
  {
   "cell_type": "markdown",
   "metadata": {},
   "source": [
    "# Python Built in functions: range() print() ...\n",
    "\n",
    "Python has a lot of powerful built in functions that can be used to perform many simple tasks. Although we will only use a few common ones. These functions can be used wthout needing to import anything.\n",
    "\n",
    "Refer to the python documentation for more indepth explaninations of each function. \n",
    "> https://docs.python.org/3/library/functions.html"
   ]
  },
  {
   "cell_type": "markdown",
   "metadata": {},
   "source": [
    "# Print()\n",
    "\n",
    "We have already used print many times. As you have seen it simply prints something to the output."
   ]
  },
  {
   "cell_type": "code",
   "execution_count": 1,
   "metadata": {},
   "outputs": [
    {
     "name": "stdout",
     "output_type": "stream",
     "text": [
      "hello\n",
      "4\n",
      "33\n",
      "1 + 32\n"
     ]
    }
   ],
   "source": [
    "print(\"hello\")\n",
    "print(4)\n",
    "print(1 + 32)\n",
    "print(\"1 + 32\")"
   ]
  },
  {
   "cell_type": "markdown",
   "metadata": {},
   "source": [
    "# range()\n",
    "\n",
    "This is typically used with for loops to determine the number of iterations.\n",
    "\n",
    "Range takes many arguments but the three most commonly used are start the starting number, stop the last number, and step the amount to increment by. Start and step are optional arguments only stop is required.\n",
    "> range (start, stop, step)"
   ]
  },
  {
   "cell_type": "code",
   "execution_count": 5,
   "metadata": {},
   "outputs": [
    {
     "name": "stdout",
     "output_type": "stream",
     "text": [
      "1\n",
      "3\n",
      "5\n",
      "7\n",
      "9\n",
      "-10\n",
      "-9\n",
      "-8\n",
      "-7\n",
      "-6\n",
      "-5\n",
      "-4\n",
      "-3\n",
      "-2\n",
      "-1\n",
      "10\n",
      "8\n",
      "6\n",
      "4\n",
      "2\n"
     ]
    }
   ],
   "source": [
    "for i in range(1, 10, 2):\n",
    "    print(i)\n",
    "    \n",
    "for i in range(-10, 0):\n",
    "    print(i)\n",
    "    \n",
    "for i in range(10, 0, -2):\n",
    "    print(i)"
   ]
  },
  {
   "cell_type": "markdown",
   "metadata": {},
   "source": [
    "# Syntax\n",
    "\n",
    "When we want to use a built in function we simply need to type its name followed by (), and pass in the appropiate arguments. You should refer to the documentation for more details on how to use a function. "
   ]
  },
  {
   "cell_type": "markdown",
   "metadata": {},
   "source": [
    "# End of Lesson Quiz"
   ]
  },
  {
   "cell_type": "code",
   "execution_count": null,
   "metadata": {},
   "outputs": [],
   "source": []
  }
 ],
 "metadata": {
  "kernelspec": {
   "display_name": "Python 3",
   "language": "python",
   "name": "python3"
  },
  "language_info": {
   "codemirror_mode": {
    "name": "ipython",
    "version": 3
   },
   "file_extension": ".py",
   "mimetype": "text/x-python",
   "name": "python",
   "nbconvert_exporter": "python",
   "pygments_lexer": "ipython3",
   "version": "3.7.3"
  }
 },
 "nbformat": 4,
 "nbformat_minor": 2
}

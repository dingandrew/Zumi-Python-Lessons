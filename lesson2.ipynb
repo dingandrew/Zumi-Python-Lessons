{
 "cells": [
  {
   "cell_type": "markdown",
   "metadata": {
    "colab_type": "text",
    "id": "cJ9metjgWbAd"
   },
   "source": [
    "# Python Operations: + - = * / % \n",
    "\n",
    "Python has many operations that can be performed on variables or literals.\n"
   ]
  },
  {
   "cell_type": "code",
   "execution_count": 3,
   "metadata": {
    "colab": {
     "base_uri": "https://localhost:8080/",
     "height": 140
    },
    "colab_type": "code",
    "id": "bFkOtloiWY_q",
    "outputId": "2af30032-bfe4-48ff-8bff-7e2bde1f4e22"
   },
   "outputs": [
    {
     "name": "stdout",
     "output_type": "stream",
     "text": [
      "7\n",
      "0.4\n",
      "10\n",
      "2\n",
      "hi person!\n"
     ]
    }
   ],
   "source": [
    "#addition\n",
    "a = 2 \n",
    "b = 5\n",
    "\n",
    "3 + 20 #this is technically correct but we do not store the value anywhere\n",
    "\n",
    "c = a + b \n",
    "print(c)\n",
    "\n",
    "#division \n",
    "a = 2 \n",
    "b = 5\n",
    "\n",
    "c = a / b \n",
    "print(c)\n",
    "\n",
    "#multiplication \n",
    "a = 2 \n",
    "b = 5\n",
    "\n",
    "c = a * b \n",
    "print(c)\n",
    "\n",
    "#modulous\n",
    "a = 2 \n",
    "b = 5\n",
    "\n",
    "c = a % b \n",
    "print(c)\n",
    "\n",
    "\n",
    "#string concatenation\n",
    "word1 = \"hi \"\n",
    "word2 = \"person!\"\n",
    "print(word1 + word2)\n",
    "\n",
    "\n"
   ]
  },
  {
   "cell_type": "markdown",
   "metadata": {},
   "source": [
    "# Assigning vs comparing\n",
    "When you have only one = you are assigning the right side to the left side.\n",
    "When You have two == you are comparing the left and right side."
   ]
  },
  {
   "cell_type": "code",
   "execution_count": 1,
   "metadata": {},
   "outputs": [
    {
     "name": "stdout",
     "output_type": "stream",
     "text": [
      "5\n",
      "False\n"
     ]
    }
   ],
   "source": [
    "#Important!\n",
    "#difference between assignment and comparison \n",
    "assign  = 5\n",
    "print(assign)\n",
    "\n",
    "print(1 == 3)\n"
   ]
  },
  {
   "cell_type": "markdown",
   "metadata": {},
   "source": [
    "# Comparing Operators\n",
    "\n",
    "> == checks for equality\n",
    "\n",
    "> \\>, < checks for greater than and less than\n",
    "\n",
    "> \\>=, =< checks for greater than or equal to and less than or equal to"
   ]
  },
  {
   "cell_type": "markdown",
   "metadata": {},
   "source": [
    "# End of Lesson Quiz "
   ]
  },
  {
   "cell_type": "code",
   "execution_count": null,
   "metadata": {},
   "outputs": [],
   "source": []
  }
 ],
 "metadata": {
  "colab": {
   "name": "lesson2.ipynb",
   "provenance": []
  },
  "kernelspec": {
   "display_name": "Python 3",
   "language": "python",
   "name": "python3"
  },
  "language_info": {
   "codemirror_mode": {
    "name": "ipython",
    "version": 3
   },
   "file_extension": ".py",
   "mimetype": "text/x-python",
   "name": "python",
   "nbconvert_exporter": "python",
   "pygments_lexer": "ipython3",
   "version": "3.7.3"
  }
 },
 "nbformat": 4,
 "nbformat_minor": 1
}

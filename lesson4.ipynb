{
 "cells": [
  {
   "cell_type": "markdown",
   "metadata": {},
   "source": [
    "# If Statements \n",
    "\n",
    "If statements are used to create conditional statements that can control the flow of the program and what code gets executed. \n",
    "\n",
    "In general all if statements in python follow the same format: \n",
    "\n",
    "if [some true/false condition]:\n",
    "\n",
    "    statement\n"
   ]
  },
  {
   "cell_type": "code",
   "execution_count": null,
   "metadata": {},
   "outputs": [],
   "source": [
    "#example comparing 2 variables\n",
    "a = 20\n",
    "b = 10\n",
    "\n",
    "if a == b:\n",
    "    print(\"true\")\n",
    "    "
   ]
  },
  {
   "cell_type": "markdown",
   "metadata": {},
   "source": [
    "The true false condition can be any statement as along as it evaluates to true or false\n",
    "\n",
    "If the statement evaluates to a number then 0 is considered false and all other numbers true."
   ]
  },
  {
   "cell_type": "code",
   "execution_count": 10,
   "metadata": {},
   "outputs": [
    {
     "name": "stdout",
     "output_type": "stream",
     "text": [
      "cat is in animals\n",
      "3\n"
     ]
    }
   ],
   "source": [
    "animals = [\"cat\", \"dog\",\"rat\"]\n",
    "\n",
    "if \"cat\" in animals:\n",
    "    print(\"cat is in animals\")\n",
    "    \n",
    "#numbers\n",
    "if 1 + 2:\n",
    "    print(3)\n",
    "\n",
    "if 1 - 1:\n",
    "    print(\"this will not print\")\n",
    "    \n"
   ]
  },
  {
   "cell_type": "code",
   "execution_count": 11,
   "metadata": {},
   "outputs": [
    {
     "ename": "SyntaxError",
     "evalue": "invalid syntax (<ipython-input-11-171bf3d6f927>, line 2)",
     "output_type": "error",
     "traceback": [
      "\u001b[0;36m  File \u001b[0;32m\"<ipython-input-11-171bf3d6f927>\"\u001b[0;36m, line \u001b[0;32m2\u001b[0m\n\u001b[0;31m    if a = 5:\u001b[0m\n\u001b[0m         ^\u001b[0m\n\u001b[0;31mSyntaxError\u001b[0m\u001b[0;31m:\u001b[0m invalid syntax\n"
     ]
    }
   ],
   "source": [
    "# however this is not okay\n",
    "if a = 5:\n",
    "    print(\"3\")"
   ]
  },
  {
   "cell_type": "markdown",
   "metadata": {},
   "source": [
    "# Elif and else\n",
    "\n",
    "if statements can be made more powerful by adding multiple conditions"
   ]
  },
  {
   "cell_type": "code",
   "execution_count": 13,
   "metadata": {},
   "outputs": [
    {
     "name": "stdout",
     "output_type": "stream",
     "text": [
      "a == 50\n",
      "nothing is in animals\n"
     ]
    }
   ],
   "source": [
    "a = 50\n",
    "\n",
    "if a < 50:\n",
    "    print(\"a < 25\")\n",
    "elif a == 50:\n",
    "    print(\"a == 50\")\n",
    "elif a > 50:\n",
    "    print (\"a > 50\")\n",
    "    \n",
    "    \n",
    "animals = [\"cat\", \"dog\",\"rat\"]\n",
    "\n",
    "if \"tree\" in animals:\n",
    "    print(\"tree is in animals\")\n",
    "elif \"house\" in animals:\n",
    "    print(\"house is in animals\")\n",
    "else:\n",
    "    print(\"nothing is in animals\")\n",
    "    "
   ]
  },
  {
   "cell_type": "markdown",
   "metadata": {},
   "source": [
    "Notice how the else statement did not have a conditional attached to it. This is because the else statment is the final statement executed in an if/elif/else statement. It is only executed if no other if or elif is true, in other words it is the default statement if no other statement is true.\n",
    "\n",
    "An if statement can have only 1 or 0  else statements, and any number of elif statements."
   ]
  },
  {
   "cell_type": "markdown",
   "metadata": {},
   "source": [
    "# Syntax of if statements\n",
    "\n",
    "An valid if statement begins with an if followed by some true false condition a colon then all code inside it must be on the next line indented by one tab"
   ]
  },
  {
   "cell_type": "code",
   "execution_count": 18,
   "metadata": {},
   "outputs": [
    {
     "name": "stdout",
     "output_type": "stream",
     "text": [
      "hello\n"
     ]
    }
   ],
   "source": [
    "if True:   #notice the colon\n",
    "    print(\"hello\") #notice the indenting\n",
    "    "
   ]
  },
  {
   "cell_type": "code",
   "execution_count": 17,
   "metadata": {},
   "outputs": [
    {
     "ename": "IndentationError",
     "evalue": "expected an indented block (<ipython-input-17-20ee99a8e1b6>, line 2)",
     "output_type": "error",
     "traceback": [
      "\u001b[0;36m  File \u001b[0;32m\"<ipython-input-17-20ee99a8e1b6>\"\u001b[0;36m, line \u001b[0;32m2\u001b[0m\n\u001b[0;31m    print(\"hello\") #wrong!!\u001b[0m\n\u001b[0m        ^\u001b[0m\n\u001b[0;31mIndentationError\u001b[0m\u001b[0;31m:\u001b[0m expected an indented block\n"
     ]
    }
   ],
   "source": [
    "if True:   #notice the colon\n",
    "print(\"hello\") #wrong!!"
   ]
  },
  {
   "cell_type": "markdown",
   "metadata": {},
   "source": [
    "# End of Lesson Quiz"
   ]
  },
  {
   "cell_type": "code",
   "execution_count": null,
   "metadata": {},
   "outputs": [],
   "source": []
  }
 ],
 "metadata": {
  "kernelspec": {
   "display_name": "Python 3",
   "language": "python",
   "name": "python3"
  },
  "language_info": {
   "codemirror_mode": {
    "name": "ipython",
    "version": 3
   },
   "file_extension": ".py",
   "mimetype": "text/x-python",
   "name": "python",
   "nbconvert_exporter": "python",
   "pygments_lexer": "ipython3",
   "version": "3.7.3"
  }
 },
 "nbformat": 4,
 "nbformat_minor": 2
}

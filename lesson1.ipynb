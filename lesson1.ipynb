{
  "nbformat": 4,
  "nbformat_minor": 0,
  "metadata": {
    "colab": {
      "name": "lesson1.ipynb",
      "provenance": [],
      "include_colab_link": true
    },
    "kernelspec": {
      "name": "python3",
      "display_name": "Python 3"
    }
  },
  "cells": [
    {
      "cell_type": "markdown",
      "metadata": {
        "id": "view-in-github",
        "colab_type": "text"
      },
      "source": [
        "<a href=\"https://colab.research.google.com/github/dingandrew/Zumi-Python-Lessons/blob/master/lesson1.ipynb\" target=\"_parent\"><img src=\"https://colab.research.google.com/assets/colab-badge.svg\" alt=\"Open In Colab\"/></a>"
      ]
    },
    {
      "cell_type": "markdown",
      "metadata": {
        "id": "WFOUQ69CQ19F",
        "colab_type": "text"
      },
      "source": [
        "# Creating Variables\n",
        "Variables are containers for storing data values.\n",
        "\n",
        "Unlike other programming languages, Python has no command for declaring a variable. We can directly initialize and assign a variable.\n",
        "\n",
        "A variable is created the moment you first assign a value to it. In python data types are dynamically bound for us so we do not need to explicitly define data types of variables.\n",
        "\n"
      ]
    },
    {
      "cell_type": "code",
      "metadata": {
        "id": "lZaP1aOVQymn",
        "colab_type": "code",
        "colab": {}
      },
      "source": [
        "t = 0.5 \n",
        "u = -1\n",
        "x = 5\n",
        "y = \"John\"\n",
        "print(t)\n",
        "print(u)\n",
        "print(x)\n",
        "print(y)\n",
        "\n"
      ],
      "execution_count": 0,
      "outputs": []
    },
    {
      "cell_type": "code",
      "metadata": {
        "id": "jiJCDF75RSb0",
        "colab_type": "code",
        "colab": {}
      },
      "source": [
        "#These initializations will create errors\n",
        "a =     #we cannot assign a variable to nothing\n",
        "b       #we cannot create a variable with initializing, since variables are dynamically bound\n",
        "\n",
        "0 = x   #we cannot assign a literal to a variable\n",
        "\"\" = v\n",
        "\n",
        "            #variable names are case sensitive\n",
        "A_var1 = 0  #valid variable name, varable names can only contain numbers, underscore, and letters\n",
        ":aa9 = 0    #invalid characters in variabe names \n",
        "\n",
        "\n",
        "\n",
        "\n"
      ],
      "execution_count": 0,
      "outputs": []
    }
  ]
}
{
 "cells": [
  {
   "cell_type": "markdown",
   "metadata": {
    "colab_type": "text",
    "id": "WFOUQ69CQ19F"
   },
   "source": [
    "# Creating Variables\n",
    "Variables are containers for storing data values.\n",
    "\n",
    "Unlike other programming languages, Python has no command for declaring a variable. We can directly initialize and assign a variable.\n",
    "\n",
    "A variable is created the moment you first assign a value to it. In python data types are dynamically bound for us so we do not need to explicitly define data types of variables.\n",
    "\n",
    "Variables should also be given meaningful names that follow a particular convention.\n",
    "\n"
   ]
  },
  {
   "cell_type": "code",
   "execution_count": null,
   "metadata": {
    "colab": {},
    "colab_type": "code",
    "id": "lZaP1aOVQymn"
   },
   "outputs": [],
   "source": [
    "t = 0.5 \n",
    "u = -1\n",
    "x = 5\n",
    "y = \"John\"\n",
    "print(t)\n",
    "print(u)\n",
    "print(x)\n",
    "print(y)\n",
    "\n"
   ]
  },
  {
   "cell_type": "markdown",
   "metadata": {},
   "source": [
    "# Initilizing Variables\n",
    "Python variables must be initialized to a value, variables cannot just be declared. Variable can be assigned to integer, double, float, char, strings, other variables, and objects. \n",
    "\n",
    "# Naming Variables\n",
    "Variable names typically follow a certain convention. Names should always be meaniningful describing the value they are holding. Some characters are invalid."
   ]
  },
  {
   "cell_type": "code",
   "execution_count": null,
   "metadata": {
    "colab": {},
    "colab_type": "code",
    "id": "jiJCDF75RSb0"
   },
   "outputs": [],
   "source": [
    "#These initializations will create errors\n",
    "a =     #we cannot assign a variable to nothing\n",
    "b       #we cannot create a variable with initializing, since variables are dynamically bound\n",
    "\n",
    "0 = x   #we cannot assign a literal to a variable\n",
    "\"\" = v\n",
    "\n",
    "            #variable names are case sensitive\n",
    "A_var1 = 0  #valid variable name, varable names can only contain numbers, underscore, and letters\n",
    ":aa9 = 0    #invalid characters in variabe names \n"
   ]
  },
  {
   "cell_type": "markdown",
   "metadata": {},
   "source": [
    "# End of Lesson Quiz"
   ]
  },
  {
   "cell_type": "code",
   "execution_count": 18,
   "metadata": {},
   "outputs": [
    {
     "data": {
      "application/vnd.jupyter.widget-view+json": {
       "model_id": "3538d9c2836b47dbbb5aa13ab2388000",
       "version_major": 2,
       "version_minor": 0
      },
      "text/plain": [
       "VBox(children=(Output(), RadioButtons(options=(('speed = 20', 0), ('name = \"Hello\"', 1), ('new_var', 2)), valu…"
      ]
     },
     "metadata": {},
     "output_type": "display_data"
    },
    {
     "data": {
      "application/vnd.jupyter.widget-view+json": {
       "model_id": "2e20f46fafad4125a152557869cec94b",
       "version_major": 2,
       "version_minor": 0
      },
      "text/plain": [
       "VBox(children=(Output(), RadioButtons(options=(('TRUE', 0), ('FALSE', 1)), value=0), Button(description='submi…"
      ]
     },
     "metadata": {},
     "output_type": "display_data"
    },
    {
     "data": {
      "application/vnd.jupyter.widget-view+json": {
       "model_id": "1fbbb97b5edc4065ba00bbca1e2fb21a",
       "version_major": 2,
       "version_minor": 0
      },
      "text/plain": [
       "VBox(children=(Output(), RadioButtons(options=(('speed1', 0), ('1', 1), ('port-1', 2)), value=0), Button(descr…"
      ]
     },
     "metadata": {},
     "output_type": "display_data"
    }
   ],
   "source": [
    "#run this cell to start the quiz\n",
    "import Quiz_Generator as qg\n",
    "qg.quiz_one()"
   ]
  }
 ],
 "metadata": {
  "colab": {
   "name": "lesson1.ipynb",
   "provenance": []
  },
  "kernelspec": {
   "display_name": "Python 3",
   "language": "python",
   "name": "python3"
  },
  "language_info": {
   "codemirror_mode": {
    "name": "ipython",
    "version": 3
   },
   "file_extension": ".py",
   "mimetype": "text/x-python",
   "name": "python",
   "nbconvert_exporter": "python",
   "pygments_lexer": "ipython3",
   "version": "3.7.3"
  }
 },
 "nbformat": 4,
 "nbformat_minor": 1
}

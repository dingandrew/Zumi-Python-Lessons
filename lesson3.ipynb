{
  "nbformat": 4,
  "nbformat_minor": 0,
  "metadata": {
    "colab": {
      "name": "lesson3.ipynb",
      "provenance": []
    },
    "kernelspec": {
      "name": "python3",
      "display_name": "Python 3"
    }
  },
  "cells": [
    {
      "cell_type": "markdown",
      "metadata": {
        "id": "j5ftB-VCYhhu",
        "colab_type": "text"
      },
      "source": [
        "#Indenting and Blocking Code in Python and Comments\n",
        "\n",
        "Unlike many other programming lnagiages that use curly braces {} to block code. Python does not use curly braces to segment different blocks of code. Instead python uses indents to block code.\n",
        "\n",
        "\n",
        "Formatting should remain consistent througout code, for example tabs vs double spaces."
      ]
    },
    {
      "cell_type": "code",
      "metadata": {
        "id": "kXJTAc-jYd_-",
        "colab_type": "code",
        "outputId": "5fc7705e-5685-465c-dd9a-7fbb8b5ec6b1",
        "colab": {
          "base_uri": "https://localhost:8080/",
          "height": 87
        }
      },
      "source": [
        "if 1 == 5:\n",
        "    print(\"in here\")\n",
        "else:\n",
        "    print(\"not true\")\n",
        "\n",
        "\n",
        "if 2 == 2:\n",
        "    print(\"true\")\n",
        "    print(\"will print\")\n",
        "print(\"will also print\")"
      ],
      "execution_count": 0,
      "outputs": [
        {
          "output_type": "stream",
          "text": [
            "not true\n",
            "true\n",
            "will print\n",
            "will also print\n"
          ],
          "name": "stdout"
        }
      ]
    },
    {
      "cell_type": "code",
      "metadata": {
        "id": "ZlRAClCRZqnD",
        "colab_type": "code",
        "outputId": "b04dfab1-938f-43b9-f6fb-cdb7d3949cb6",
        "colab": {
          "base_uri": "https://localhost:8080/",
          "height": 132
        }
      },
      "source": [
        "#invlaid indentation will casue error \n",
        "    print(\"noo\")\n",
        "        print(\"why\")"
      ],
      "execution_count": 0,
      "outputs": [
        {
          "output_type": "error",
          "ename": "IndentationError",
          "evalue": "ignored",
          "traceback": [
            "\u001b[0;36m  File \u001b[0;32m\"<ipython-input-8-981235968c90>\"\u001b[0;36m, line \u001b[0;32m2\u001b[0m\n\u001b[0;31m    print(\"why\")\u001b[0m\n\u001b[0m    ^\u001b[0m\n\u001b[0;31mIndentationError\u001b[0m\u001b[0;31m:\u001b[0m unexpected indent\n"
          ]
        }
      ]
    },
    {
      "cell_type": "code",
      "metadata": {
        "id": "IF-n0xsEZ_bt",
        "colab_type": "code",
        "colab": {}
      },
      "source": [
        ""
      ],
      "execution_count": 0,
      "outputs": []
    }
  ]
}
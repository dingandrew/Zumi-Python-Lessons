{
 "cells": [
  {
   "cell_type": "markdown",
   "metadata": {
    "colab_type": "text",
    "id": "j5ftB-VCYhhu"
   },
   "source": [
    "# Indenting and Blocking Code in Python and Comments\n",
    "\n",
    "Unlike many other programming lnagiages that use curly braces {} to block code. Python does not use curly braces to segment different blocks of code. Instead python uses indents to block code.\n",
    "\n",
    "\n",
    "Formatting should remain consistent througout code, for example tabs vs double spaces."
   ]
  },
  {
   "cell_type": "code",
   "execution_count": null,
   "metadata": {
    "colab": {
     "base_uri": "https://localhost:8080/",
     "height": 87
    },
    "colab_type": "code",
    "id": "kXJTAc-jYd_-",
    "outputId": "5fc7705e-5685-465c-dd9a-7fbb8b5ec6b1"
   },
   "outputs": [],
   "source": [
    "if 1 == 5:\n",
    "    print(\"in here\")\n",
    "else:\n",
    "    print(\"not true\")\n",
    "\n",
    "\n",
    "if 2 == 2:\n",
    "    print(\"true\")\n",
    "    print(\"will print\")\n",
    "print(\"will also print\")"
   ]
  },
  {
   "cell_type": "code",
   "execution_count": null,
   "metadata": {
    "colab": {
     "base_uri": "https://localhost:8080/",
     "height": 132
    },
    "colab_type": "code",
    "id": "ZlRAClCRZqnD",
    "outputId": "b04dfab1-938f-43b9-f6fb-cdb7d3949cb6"
   },
   "outputs": [],
   "source": [
    "#invlaid indentation will cause error \n",
    "    print(\"noo\")\n",
    "        print(\"why\")\n",
    "        \n",
    "#this will cause a compilation error because these two lines are indented with any opening statement \n",
    "#similar to just having a random } in c/c++"
   ]
  },
  {
   "cell_type": "markdown",
   "metadata": {
    "colab": {},
    "colab_type": "code",
    "id": "IF-n0xsEZ_bt"
   },
   "source": [
    "# Code Block\n",
    "A code block (body of a function, loop etc.) starts with indentation and ends with the first unindented line. The amount of indentation is up to you, but it must be consistent throughout that block.\n",
    "\n",
    "The reason for using indentation for code block is so code looks consistent and cleaner.\n"
   ]
  },
  {
   "cell_type": "code",
   "execution_count": null,
   "metadata": {},
   "outputs": [],
   "source": [
    "#Examples\n",
    "\n",
    "for i in range(0,10):\n",
    "    print(\"I will print 10 times\")\n",
    "    print(\"I will print 10 times too\")\n",
    "print(\"i will only print once\")    \n",
    "\n",
    "a = 5\n",
    "\n",
    "if a < 10:\n",
    "    print(\"a is less than 10\")\n",
    "elif a > 10:\n",
    "    print(\"a is greater than 10\")\n",
    "\n",
    "\n",
    "    \n",
    "def indentation():\n",
    "    print(\"everything indented by one tab is inside of the function\")\n",
    "\n",
    "#call function\n",
    "indentation()\n",
    "    "
   ]
  },
  {
   "cell_type": "markdown",
   "metadata": {},
   "source": [
    "# End Of Lesson Quiz"
   ]
  },
  {
   "cell_type": "code",
   "execution_count": 2,
   "metadata": {},
   "outputs": [
    {
     "data": {
      "application/vnd.jupyter.widget-view+json": {
       "model_id": "fbff679ff497450eb9133fb032791673",
       "version_major": 2,
       "version_minor": 0
      },
      "text/plain": [
       "VBox(children=(Output(), RadioButtons(options=(('YES', 0), ('NO', 1)), value=0), Button(description='submit', …"
      ]
     },
     "metadata": {},
     "output_type": "display_data"
    },
    {
     "data": {
      "application/vnd.jupyter.widget-view+json": {
       "model_id": "3cc29d443fa34e4a83457e631c02f563",
       "version_major": 2,
       "version_minor": 0
      },
      "text/plain": [
       "VBox(children=(Output(), RadioButtons(options=(('IndentationError: unexpected indent', 0), ('TypeError: invali…"
      ]
     },
     "metadata": {},
     "output_type": "display_data"
    }
   ],
   "source": [
    "#run this cell to start the quiz\n",
    "import Quiz_Generator as qg\n",
    "qg.quiz_three()"
   ]
  }
 ],
 "metadata": {
  "colab": {
   "name": "lesson3.ipynb",
   "provenance": []
  },
  "kernelspec": {
   "display_name": "Python 3",
   "language": "python",
   "name": "python3"
  },
  "language_info": {
   "codemirror_mode": {
    "name": "ipython",
    "version": 3
   },
   "file_extension": ".py",
   "mimetype": "text/x-python",
   "name": "python",
   "nbconvert_exporter": "python",
   "pygments_lexer": "ipython3",
   "version": "3.7.3"
  }
 },
 "nbformat": 4,
 "nbformat_minor": 1
}
